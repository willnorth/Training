{
 "cells": [
  {
   "cell_type": "code",
   "execution_count": 12,
   "metadata": {
    "collapsed": false
   },
   "outputs": [
    {
     "name": "stdout",
     "output_type": "stream",
     "text": [
      "20 0\n"
     ]
    }
   ],
   "source": [
    "Nmax = 10\n",
    "Nmin = 2\n",
    "Step = 2\n",
    "sum1 = 0\n",
    "prod = 0\n",
    "\n",
    "for i in range(Nmin, Nmax, Step):\n",
    "    sum1 = sum1 + i  \n",
    "    prod = prod*i\n",
    "    #print(sum1, prod)\n",
    "\n",
    "print(sum1, prod)"
   ]
  },
  {
   "cell_type": "code",
   "execution_count": 11,
   "metadata": {
    "collapsed": false
   },
   "outputs": [
    {
     "name": "stdout",
     "output_type": "stream",
     "text": [
      "20 0\n"
     ]
    }
   ],
   "source": [
    "sum1 = 0\n",
    "prod = 0\n",
    "for j in range(2,10,2): \n",
    "    sum1 = sum1 + j\n",
    "    #print(sum1)\n",
    "\n",
    "for j in range(2,10,2): \n",
    "    prod = prod*j\n",
    "    #print(prod)\n",
    "\n",
    "print(sum1, prod)    \n"
   ]
  },
  {
   "cell_type": "code",
   "execution_count": 18,
   "metadata": {
    "collapsed": false
   },
   "outputs": [
    {
     "name": "stdout",
     "output_type": "stream",
     "text": [
      "True\n"
     ]
    }
   ],
   "source": [
    "name = \"Tom\"\n",
    "if name == \"Tom\" or name == \"Dick\" or name == \"Harry\":\n",
    "    name_in_list = True \n",
    "    print(name_in_list)\n"
   ]
  },
  {
   "cell_type": "code",
   "execution_count": 20,
   "metadata": {
    "collapsed": false
   },
   "outputs": [
    {
     "name": "stdout",
     "output_type": "stream",
     "text": [
      "True\n"
     ]
    }
   ],
   "source": [
    "name = \"Tom\"\n",
    "name_in_list = name in ('Tom', 'Dick', 'Harry')\n",
    "print(name_in_list)"
   ]
  },
  {
   "cell_type": "code",
   "execution_count": 24,
   "metadata": {
    "collapsed": false
   },
   "outputs": [
    {
     "name": "stdout",
     "output_type": "stream",
     "text": [
      "First x is 1 and y is 3\n",
      "Now x is 3 and y is 1\n"
     ]
    }
   ],
   "source": [
    "x = 1\n",
    "y = 3\n",
    "temp = 0\n",
    "print(\"First x is\", x, \"and y is\", y)\n",
    "temp = x\n",
    "x = y\n",
    "y = temp\n",
    "print(\"Now x is\", x, \"and y is\", y)"
   ]
  },
  {
   "cell_type": "code",
   "execution_count": 43,
   "metadata": {
    "collapsed": false
   },
   "outputs": [],
   "source": [
    "def return_sum_and_prod(value_list):\n",
    "    sum1 = 0\n",
    "    prod = 0\n",
    "    for v in value_list:\n",
    "            sum1 += v\n",
    "            prod *= v\n",
    "#     for i in range (len(value_list)):\n",
    "#         sum1 = sum1 + value_list[i]\n",
    "#         print(sum1)\n",
    "#     for j in range (len(value_list)):\n",
    "#         prod = prod*value_list[j]\n",
    "    return(sum1,prod)\n",
    "    "
   ]
  },
  {
   #This is me
   "cell_type": "code",
   "execution_count": 45,
   "metadata": {
    "collapsed": false
   },
   "outputs": [
    {
     "data": {
      "text/plain": [
       "(15, 0)"
      ]
     },
     "execution_count": 45,
     "metadata": {},
     "output_type": "execute_result"
    }
   ],
   "source": [
    "x = [1,2,3,4,5]\n",
    "return_sum_and_prod(x)\n",
    "#y = [0,10,20]\n",
    "#return_sum_and_prod(y)\n"
   ]
  },
  {
   "cell_type": "code",
   "execution_count": null,
   "metadata": {
    "collapsed": true
   },
   "outputs": [],
   "source": [
    "\n",
    "from collections import defaultdict\n",
    "d = defaultdict(list)\n",
    "for item in my_list:\n",
    "    d[item].append(whatever_value)"
   ]
  },
  {
   "cell_type": "code",
   "execution_count": null,
   "metadata": {
    "collapsed": true
   },
   "outputs": [],
   "source": [
    "def "
   ]
  }
 ],
 "metadata": {
  "kernelspec": {
   "display_name": "Python 3",
   "language": "python",
   "name": "python3"
  },
  "language_info": {
   "codemirror_mode": {
    "name": "ipython",
    "version": 3
   },
   "file_extension": ".py",
   "mimetype": "text/x-python",
   "name": "python",
   "nbconvert_exporter": "python",
   "pygments_lexer": "ipython3",
   "version": "3.5.4"
  }
 },
 "nbformat": 4,
 "nbformat_minor": 0
}
